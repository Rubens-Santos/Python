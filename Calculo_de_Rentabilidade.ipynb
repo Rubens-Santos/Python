{
  "nbformat": 4,
  "nbformat_minor": 0,
  "metadata": {
    "colab": {
      "name": "Calculo de Rentabilidade.ipynb",
      "provenance": [],
      "collapsed_sections": [],
      "authorship_tag": "ABX9TyPiP7WptmRXWFdv77TyAZpT",
      "include_colab_link": true
    },
    "kernelspec": {
      "name": "python3",
      "display_name": "Python 3"
    }
  },
  "cells": [
    {
      "cell_type": "markdown",
      "metadata": {
        "id": "view-in-github",
        "colab_type": "text"
      },
      "source": [
        "<a href=\"https://colab.research.google.com/github/Rubens-Santos/Python/blob/master/Calculo_de_Rentabilidade.ipynb\" target=\"_parent\"><img src=\"https://colab.research.google.com/assets/colab-badge.svg\" alt=\"Open In Colab\"/></a>"
      ]
    },
    {
      "cell_type": "markdown",
      "metadata": {
        "id": "DPnyqvwp_lt4",
        "colab_type": "text"
      },
      "source": [
        "<center><h1><b>APP RENDA FIXA</b></h1></center>"
      ]
    },
    {
      "cell_type": "markdown",
      "metadata": {
        "id": "XdmJO2X9K6nB",
        "colab_type": "text"
      },
      "source": [
        "<hr>"
      ]
    },
    {
      "cell_type": "markdown",
      "metadata": {
        "id": "VD8zXBby_XT7",
        "colab_type": "text"
      },
      "source": [
        "<h1><b>Importando as Bibliotecas</b></h1>"
      ]
    },
    {
      "cell_type": "code",
      "metadata": {
        "id": "s4fZ1tQy_Nnm",
        "colab_type": "code",
        "colab": {}
      },
      "source": [
        "import numpy as pd\n",
        "import pandas as pd\n"
      ],
      "execution_count": 9,
      "outputs": []
    },
    {
      "cell_type": "markdown",
      "metadata": {
        "id": "X1NcL11cLFPo",
        "colab_type": "text"
      },
      "source": [
        "<hr>"
      ]
    },
    {
      "cell_type": "markdown",
      "metadata": {
        "id": "ywgr-IFhB4YJ",
        "colab_type": "text"
      },
      "source": [
        "<h3><i>Obtendo os Dados Solicitados.</i></h3>"
      ]
    },
    {
      "cell_type": "code",
      "metadata": {
        "id": "CdcweIrOCD4P",
        "colab_type": "code",
        "colab": {}
      },
      "source": [
        "df = pd.read_csv('http://dados.cvm.gov.br/dados/FI/DOC/INF_DIARIO/DADOS/inf_diario_fi_202005.csv', sep=';')"
      ],
      "execution_count": 10,
      "outputs": []
    },
    {
      "cell_type": "code",
      "metadata": {
        "id": "xLt7HLx4FrCP",
        "colab_type": "code",
        "colab": {}
      },
      "source": [
        "df2 = pd.read_csv('http://dados.cvm.gov.br/dados/FI/DOC/INF_DIARIO/DADOS/inf_diario_fi_202006.csv', sep=';')\n",
        "\n"
      ],
      "execution_count": 12,
      "outputs": []
    },
    {
      "cell_type": "markdown",
      "metadata": {
        "id": "HaMYeLT8LQBW",
        "colab_type": "text"
      },
      "source": [
        "<hr>"
      ]
    },
    {
      "cell_type": "markdown",
      "metadata": {
        "id": "yQv37Z6-JK6C",
        "colab_type": "text"
      },
      "source": [
        "<h3><b>Exibindo os Dados em um DataFrame</b></h3>"
      ]
    },
    {
      "cell_type": "markdown",
      "metadata": {
        "id": "pzE8_ZOzJgLK",
        "colab_type": "text"
      },
      "source": [
        "<h4><i>Dados do Mês de Maio</i></h4>"
      ]
    },
    {
      "cell_type": "code",
      "metadata": {
        "id": "7NVNyk1LG8Fh",
        "colab_type": "code",
        "colab": {}
      },
      "source": [
        "dadosmaio = df.loc[df['CNPJ_FUNDO'] == '28.504.479/0001-12'] #Criando um novo Dataframe com os Dados do CNPJ solicitado"
      ],
      "execution_count": 13,
      "outputs": []
    },
    {
      "cell_type": "code",
      "metadata": {
        "id": "n1_XuJ4MHHnI",
        "colab_type": "code",
        "colab": {
          "base_uri": "https://localhost:8080/",
          "height": 669
        },
        "outputId": "87a5223c-2637-4b50-8f3f-73b8412f189f"
      },
      "source": [
        "dadosmaio #Exibindo o DataFrame"
      ],
      "execution_count": 14,
      "outputs": [
        {
          "output_type": "execute_result",
          "data": {
            "text/html": [
              "<div>\n",
              "<style scoped>\n",
              "    .dataframe tbody tr th:only-of-type {\n",
              "        vertical-align: middle;\n",
              "    }\n",
              "\n",
              "    .dataframe tbody tr th {\n",
              "        vertical-align: top;\n",
              "    }\n",
              "\n",
              "    .dataframe thead th {\n",
              "        text-align: right;\n",
              "    }\n",
              "</style>\n",
              "<table border=\"1\" class=\"dataframe\">\n",
              "  <thead>\n",
              "    <tr style=\"text-align: right;\">\n",
              "      <th></th>\n",
              "      <th>CNPJ_FUNDO</th>\n",
              "      <th>DT_COMPTC</th>\n",
              "      <th>VL_TOTAL</th>\n",
              "      <th>VL_QUOTA</th>\n",
              "      <th>VL_PATRIM_LIQ</th>\n",
              "      <th>CAPTC_DIA</th>\n",
              "      <th>RESG_DIA</th>\n",
              "      <th>NR_COTST</th>\n",
              "    </tr>\n",
              "  </thead>\n",
              "  <tbody>\n",
              "    <tr>\n",
              "      <th>239983</th>\n",
              "      <td>28.504.479/0001-12</td>\n",
              "      <td>2020-05-04</td>\n",
              "      <td>4757461.14</td>\n",
              "      <td>128.486521</td>\n",
              "      <td>4756284.05</td>\n",
              "      <td>0.0</td>\n",
              "      <td>0.0</td>\n",
              "      <td>2</td>\n",
              "    </tr>\n",
              "    <tr>\n",
              "      <th>239984</th>\n",
              "      <td>28.504.479/0001-12</td>\n",
              "      <td>2020-05-05</td>\n",
              "      <td>4709898.37</td>\n",
              "      <td>127.200079</td>\n",
              "      <td>4708662.83</td>\n",
              "      <td>0.0</td>\n",
              "      <td>0.0</td>\n",
              "      <td>2</td>\n",
              "    </tr>\n",
              "    <tr>\n",
              "      <th>239985</th>\n",
              "      <td>28.504.479/0001-12</td>\n",
              "      <td>2020-05-06</td>\n",
              "      <td>4745439.56</td>\n",
              "      <td>128.158612</td>\n",
              "      <td>4744145.61</td>\n",
              "      <td>0.0</td>\n",
              "      <td>0.0</td>\n",
              "      <td>2</td>\n",
              "    </tr>\n",
              "    <tr>\n",
              "      <th>239986</th>\n",
              "      <td>28.504.479/0001-12</td>\n",
              "      <td>2020-05-07</td>\n",
              "      <td>4716657.33</td>\n",
              "      <td>127.379509</td>\n",
              "      <td>4715304.93</td>\n",
              "      <td>0.0</td>\n",
              "      <td>0.0</td>\n",
              "      <td>2</td>\n",
              "    </tr>\n",
              "    <tr>\n",
              "      <th>239987</th>\n",
              "      <td>28.504.479/0001-12</td>\n",
              "      <td>2020-05-08</td>\n",
              "      <td>4779508.52</td>\n",
              "      <td>129.077287</td>\n",
              "      <td>4778152.91</td>\n",
              "      <td>0.0</td>\n",
              "      <td>0.0</td>\n",
              "      <td>2</td>\n",
              "    </tr>\n",
              "    <tr>\n",
              "      <th>239988</th>\n",
              "      <td>28.504.479/0001-12</td>\n",
              "      <td>2020-05-11</td>\n",
              "      <td>4720752.74</td>\n",
              "      <td>127.488476</td>\n",
              "      <td>4719338.67</td>\n",
              "      <td>0.0</td>\n",
              "      <td>0.0</td>\n",
              "      <td>2</td>\n",
              "    </tr>\n",
              "    <tr>\n",
              "      <th>239989</th>\n",
              "      <td>28.504.479/0001-12</td>\n",
              "      <td>2020-05-12</td>\n",
              "      <td>4634847.68</td>\n",
              "      <td>125.166254</td>\n",
              "      <td>4633375.19</td>\n",
              "      <td>0.0</td>\n",
              "      <td>0.0</td>\n",
              "      <td>2</td>\n",
              "    </tr>\n",
              "    <tr>\n",
              "      <th>239990</th>\n",
              "      <td>28.504.479/0001-12</td>\n",
              "      <td>2020-05-13</td>\n",
              "      <td>4658859.86</td>\n",
              "      <td>125.813343</td>\n",
              "      <td>4657328.99</td>\n",
              "      <td>0.0</td>\n",
              "      <td>0.0</td>\n",
              "      <td>2</td>\n",
              "    </tr>\n",
              "    <tr>\n",
              "      <th>239991</th>\n",
              "      <td>28.504.479/0001-12</td>\n",
              "      <td>2020-05-14</td>\n",
              "      <td>4675057.34</td>\n",
              "      <td>126.249340</td>\n",
              "      <td>4673468.62</td>\n",
              "      <td>0.0</td>\n",
              "      <td>0.0</td>\n",
              "      <td>2</td>\n",
              "    </tr>\n",
              "    <tr>\n",
              "      <th>239992</th>\n",
              "      <td>28.504.479/0001-12</td>\n",
              "      <td>2020-05-15</td>\n",
              "      <td>4621487.26</td>\n",
              "      <td>124.800617</td>\n",
              "      <td>4619840.13</td>\n",
              "      <td>0.0</td>\n",
              "      <td>0.0</td>\n",
              "      <td>2</td>\n",
              "    </tr>\n",
              "    <tr>\n",
              "      <th>239993</th>\n",
              "      <td>28.504.479/0001-12</td>\n",
              "      <td>2020-05-18</td>\n",
              "      <td>4645569.31</td>\n",
              "      <td>131.003684</td>\n",
              "      <td>4643863.82</td>\n",
              "      <td>0.0</td>\n",
              "      <td>205600.0</td>\n",
              "      <td>2</td>\n",
              "    </tr>\n",
              "    <tr>\n",
              "      <th>239994</th>\n",
              "      <td>28.504.479/0001-12</td>\n",
              "      <td>2020-05-19</td>\n",
              "      <td>4670882.46</td>\n",
              "      <td>131.716036</td>\n",
              "      <td>4669115.51</td>\n",
              "      <td>0.0</td>\n",
              "      <td>0.0</td>\n",
              "      <td>2</td>\n",
              "    </tr>\n",
              "    <tr>\n",
              "      <th>239995</th>\n",
              "      <td>28.504.479/0001-12</td>\n",
              "      <td>2020-05-20</td>\n",
              "      <td>4695065.20</td>\n",
              "      <td>132.410129</td>\n",
              "      <td>4693719.94</td>\n",
              "      <td>0.0</td>\n",
              "      <td>0.0</td>\n",
              "      <td>2</td>\n",
              "    </tr>\n",
              "    <tr>\n",
              "      <th>239996</th>\n",
              "      <td>28.504.479/0001-12</td>\n",
              "      <td>2020-05-21</td>\n",
              "      <td>4807427.87</td>\n",
              "      <td>135.578239</td>\n",
              "      <td>4806024.20</td>\n",
              "      <td>0.0</td>\n",
              "      <td>0.0</td>\n",
              "      <td>2</td>\n",
              "    </tr>\n",
              "    <tr>\n",
              "      <th>239997</th>\n",
              "      <td>28.504.479/0001-12</td>\n",
              "      <td>2020-05-22</td>\n",
              "      <td>4674592.27</td>\n",
              "      <td>131.829289</td>\n",
              "      <td>4673130.13</td>\n",
              "      <td>0.0</td>\n",
              "      <td>0.0</td>\n",
              "      <td>2</td>\n",
              "    </tr>\n",
              "    <tr>\n",
              "      <th>239998</th>\n",
              "      <td>28.504.479/0001-12</td>\n",
              "      <td>2020-05-25</td>\n",
              "      <td>4884546.75</td>\n",
              "      <td>137.750470</td>\n",
              "      <td>4883026.21</td>\n",
              "      <td>0.0</td>\n",
              "      <td>0.0</td>\n",
              "      <td>2</td>\n",
              "    </tr>\n",
              "    <tr>\n",
              "      <th>239999</th>\n",
              "      <td>28.504.479/0001-12</td>\n",
              "      <td>2020-05-26</td>\n",
              "      <td>4924269.29</td>\n",
              "      <td>138.870209</td>\n",
              "      <td>4922719.10</td>\n",
              "      <td>0.0</td>\n",
              "      <td>0.0</td>\n",
              "      <td>2</td>\n",
              "    </tr>\n",
              "    <tr>\n",
              "      <th>240000</th>\n",
              "      <td>28.504.479/0001-12</td>\n",
              "      <td>2020-05-27</td>\n",
              "      <td>5190449.91</td>\n",
              "      <td>146.377529</td>\n",
              "      <td>5188841.17</td>\n",
              "      <td>0.0</td>\n",
              "      <td>0.0</td>\n",
              "      <td>2</td>\n",
              "    </tr>\n",
              "    <tr>\n",
              "      <th>240001</th>\n",
              "      <td>28.504.479/0001-12</td>\n",
              "      <td>2020-05-28</td>\n",
              "      <td>5144277.72</td>\n",
              "      <td>145.073353</td>\n",
              "      <td>5142610.28</td>\n",
              "      <td>0.0</td>\n",
              "      <td>0.0</td>\n",
              "      <td>2</td>\n",
              "    </tr>\n",
              "    <tr>\n",
              "      <th>240002</th>\n",
              "      <td>28.504.479/0001-12</td>\n",
              "      <td>2020-05-29</td>\n",
              "      <td>5097316.46</td>\n",
              "      <td>143.746917</td>\n",
              "      <td>5095590.34</td>\n",
              "      <td>0.0</td>\n",
              "      <td>0.0</td>\n",
              "      <td>2</td>\n",
              "    </tr>\n",
              "  </tbody>\n",
              "</table>\n",
              "</div>"
            ],
            "text/plain": [
              "                CNPJ_FUNDO   DT_COMPTC  ...  RESG_DIA  NR_COTST\n",
              "239983  28.504.479/0001-12  2020-05-04  ...       0.0         2\n",
              "239984  28.504.479/0001-12  2020-05-05  ...       0.0         2\n",
              "239985  28.504.479/0001-12  2020-05-06  ...       0.0         2\n",
              "239986  28.504.479/0001-12  2020-05-07  ...       0.0         2\n",
              "239987  28.504.479/0001-12  2020-05-08  ...       0.0         2\n",
              "239988  28.504.479/0001-12  2020-05-11  ...       0.0         2\n",
              "239989  28.504.479/0001-12  2020-05-12  ...       0.0         2\n",
              "239990  28.504.479/0001-12  2020-05-13  ...       0.0         2\n",
              "239991  28.504.479/0001-12  2020-05-14  ...       0.0         2\n",
              "239992  28.504.479/0001-12  2020-05-15  ...       0.0         2\n",
              "239993  28.504.479/0001-12  2020-05-18  ...  205600.0         2\n",
              "239994  28.504.479/0001-12  2020-05-19  ...       0.0         2\n",
              "239995  28.504.479/0001-12  2020-05-20  ...       0.0         2\n",
              "239996  28.504.479/0001-12  2020-05-21  ...       0.0         2\n",
              "239997  28.504.479/0001-12  2020-05-22  ...       0.0         2\n",
              "239998  28.504.479/0001-12  2020-05-25  ...       0.0         2\n",
              "239999  28.504.479/0001-12  2020-05-26  ...       0.0         2\n",
              "240000  28.504.479/0001-12  2020-05-27  ...       0.0         2\n",
              "240001  28.504.479/0001-12  2020-05-28  ...       0.0         2\n",
              "240002  28.504.479/0001-12  2020-05-29  ...       0.0         2\n",
              "\n",
              "[20 rows x 8 columns]"
            ]
          },
          "metadata": {
            "tags": []
          },
          "execution_count": 14
        }
      ]
    },
    {
      "cell_type": "markdown",
      "metadata": {
        "id": "RGuZ-kaZLgzF",
        "colab_type": "text"
      },
      "source": [
        "<hr>"
      ]
    },
    {
      "cell_type": "markdown",
      "metadata": {
        "id": "znx1o2TnJ0m3",
        "colab_type": "text"
      },
      "source": [
        "<h4><i>Dados do Mês de Junho</i></h4>"
      ]
    },
    {
      "cell_type": "code",
      "metadata": {
        "id": "MbwI9OBqHK5Q",
        "colab_type": "code",
        "colab": {}
      },
      "source": [
        "dadosjunho = df2.loc[df2['CNPJ_FUNDO'] == '28.504.479/0001-12'] #Criando um novo Dataframe com os Dados do CNPJ solicitado"
      ],
      "execution_count": 16,
      "outputs": []
    },
    {
      "cell_type": "code",
      "metadata": {
        "id": "PPEr1f15H-Cv",
        "colab_type": "code",
        "colab": {
          "base_uri": "https://localhost:8080/",
          "height": 700
        },
        "outputId": "eec84990-5cd5-4084-bb3f-4611550721b6"
      },
      "source": [
        "dadosjunho #Exibindo o DataFrame"
      ],
      "execution_count": 17,
      "outputs": [
        {
          "output_type": "execute_result",
          "data": {
            "text/html": [
              "<div>\n",
              "<style scoped>\n",
              "    .dataframe tbody tr th:only-of-type {\n",
              "        vertical-align: middle;\n",
              "    }\n",
              "\n",
              "    .dataframe tbody tr th {\n",
              "        vertical-align: top;\n",
              "    }\n",
              "\n",
              "    .dataframe thead th {\n",
              "        text-align: right;\n",
              "    }\n",
              "</style>\n",
              "<table border=\"1\" class=\"dataframe\">\n",
              "  <thead>\n",
              "    <tr style=\"text-align: right;\">\n",
              "      <th></th>\n",
              "      <th>CNPJ_FUNDO</th>\n",
              "      <th>DT_COMPTC</th>\n",
              "      <th>VL_TOTAL</th>\n",
              "      <th>VL_QUOTA</th>\n",
              "      <th>VL_PATRIM_LIQ</th>\n",
              "      <th>CAPTC_DIA</th>\n",
              "      <th>RESG_DIA</th>\n",
              "      <th>NR_COTST</th>\n",
              "    </tr>\n",
              "  </thead>\n",
              "  <tbody>\n",
              "    <tr>\n",
              "      <th>250946</th>\n",
              "      <td>28.504.479/0001-12</td>\n",
              "      <td>2020-06-01</td>\n",
              "      <td>5191981.54</td>\n",
              "      <td>146.415886</td>\n",
              "      <td>5190200.85</td>\n",
              "      <td>0.0</td>\n",
              "      <td>0.0</td>\n",
              "      <td>2</td>\n",
              "    </tr>\n",
              "    <tr>\n",
              "      <th>250947</th>\n",
              "      <td>28.504.479/0001-12</td>\n",
              "      <td>2020-06-02</td>\n",
              "      <td>5356848.26</td>\n",
              "      <td>151.065110</td>\n",
              "      <td>5355008.17</td>\n",
              "      <td>0.0</td>\n",
              "      <td>0.0</td>\n",
              "      <td>2</td>\n",
              "    </tr>\n",
              "    <tr>\n",
              "      <th>250948</th>\n",
              "      <td>28.504.479/0001-12</td>\n",
              "      <td>2020-06-03</td>\n",
              "      <td>5510875.77</td>\n",
              "      <td>155.408624</td>\n",
              "      <td>5508978.55</td>\n",
              "      <td>0.0</td>\n",
              "      <td>0.0</td>\n",
              "      <td>2</td>\n",
              "    </tr>\n",
              "    <tr>\n",
              "      <th>250949</th>\n",
              "      <td>28.504.479/0001-12</td>\n",
              "      <td>2020-06-04</td>\n",
              "      <td>5446735.91</td>\n",
              "      <td>153.597621</td>\n",
              "      <td>5444781.49</td>\n",
              "      <td>0.0</td>\n",
              "      <td>0.0</td>\n",
              "      <td>2</td>\n",
              "    </tr>\n",
              "    <tr>\n",
              "      <th>250950</th>\n",
              "      <td>28.504.479/0001-12</td>\n",
              "      <td>2020-06-05</td>\n",
              "      <td>5499465.62</td>\n",
              "      <td>155.085203</td>\n",
              "      <td>5497513.82</td>\n",
              "      <td>0.0</td>\n",
              "      <td>0.0</td>\n",
              "      <td>2</td>\n",
              "    </tr>\n",
              "    <tr>\n",
              "      <th>250951</th>\n",
              "      <td>28.504.479/0001-12</td>\n",
              "      <td>2020-06-08</td>\n",
              "      <td>5638095.60</td>\n",
              "      <td>159.787053</td>\n",
              "      <td>5636086.62</td>\n",
              "      <td>0.0</td>\n",
              "      <td>28100.0</td>\n",
              "      <td>2</td>\n",
              "    </tr>\n",
              "    <tr>\n",
              "      <th>250952</th>\n",
              "      <td>28.504.479/0001-12</td>\n",
              "      <td>2020-06-09</td>\n",
              "      <td>5596252.38</td>\n",
              "      <td>158.599144</td>\n",
              "      <td>5594186.11</td>\n",
              "      <td>0.0</td>\n",
              "      <td>0.0</td>\n",
              "      <td>2</td>\n",
              "    </tr>\n",
              "    <tr>\n",
              "      <th>250953</th>\n",
              "      <td>28.504.479/0001-12</td>\n",
              "      <td>2020-06-10</td>\n",
              "      <td>5472690.90</td>\n",
              "      <td>155.094465</td>\n",
              "      <td>5470567.38</td>\n",
              "      <td>0.0</td>\n",
              "      <td>0.0</td>\n",
              "      <td>2</td>\n",
              "    </tr>\n",
              "    <tr>\n",
              "      <th>250954</th>\n",
              "      <td>28.504.479/0001-12</td>\n",
              "      <td>2020-06-12</td>\n",
              "      <td>5314193.96</td>\n",
              "      <td>150.599360</td>\n",
              "      <td>5312013.85</td>\n",
              "      <td>0.0</td>\n",
              "      <td>0.0</td>\n",
              "      <td>2</td>\n",
              "    </tr>\n",
              "    <tr>\n",
              "      <th>250955</th>\n",
              "      <td>28.504.479/0001-12</td>\n",
              "      <td>2020-06-15</td>\n",
              "      <td>5321701.96</td>\n",
              "      <td>150.813519</td>\n",
              "      <td>5319567.77</td>\n",
              "      <td>0.0</td>\n",
              "      <td>0.0</td>\n",
              "      <td>2</td>\n",
              "    </tr>\n",
              "    <tr>\n",
              "      <th>250956</th>\n",
              "      <td>28.504.479/0001-12</td>\n",
              "      <td>2020-06-16</td>\n",
              "      <td>5286524.38</td>\n",
              "      <td>149.814591</td>\n",
              "      <td>5284333.08</td>\n",
              "      <td>0.0</td>\n",
              "      <td>0.0</td>\n",
              "      <td>2</td>\n",
              "    </tr>\n",
              "    <tr>\n",
              "      <th>250957</th>\n",
              "      <td>28.504.479/0001-12</td>\n",
              "      <td>2020-06-17</td>\n",
              "      <td>5210404.05</td>\n",
              "      <td>153.546251</td>\n",
              "      <td>5208157.99</td>\n",
              "      <td>0.0</td>\n",
              "      <td>207800.0</td>\n",
              "      <td>2</td>\n",
              "    </tr>\n",
              "    <tr>\n",
              "      <th>250958</th>\n",
              "      <td>28.504.479/0001-12</td>\n",
              "      <td>2020-06-18</td>\n",
              "      <td>5237550.31</td>\n",
              "      <td>154.344892</td>\n",
              "      <td>5235247.22</td>\n",
              "      <td>0.0</td>\n",
              "      <td>0.0</td>\n",
              "      <td>2</td>\n",
              "    </tr>\n",
              "    <tr>\n",
              "      <th>250959</th>\n",
              "      <td>28.504.479/0001-12</td>\n",
              "      <td>2020-06-19</td>\n",
              "      <td>5291882.35</td>\n",
              "      <td>155.945020</td>\n",
              "      <td>5289522.22</td>\n",
              "      <td>0.0</td>\n",
              "      <td>0.0</td>\n",
              "      <td>2</td>\n",
              "    </tr>\n",
              "    <tr>\n",
              "      <th>250960</th>\n",
              "      <td>28.504.479/0001-12</td>\n",
              "      <td>2020-06-22</td>\n",
              "      <td>5291230.20</td>\n",
              "      <td>155.938263</td>\n",
              "      <td>5289293.01</td>\n",
              "      <td>0.0</td>\n",
              "      <td>0.0</td>\n",
              "      <td>2</td>\n",
              "    </tr>\n",
              "    <tr>\n",
              "      <th>250961</th>\n",
              "      <td>28.504.479/0001-12</td>\n",
              "      <td>2020-06-23</td>\n",
              "      <td>5337852.16</td>\n",
              "      <td>157.311083</td>\n",
              "      <td>5335857.90</td>\n",
              "      <td>0.0</td>\n",
              "      <td>0.0</td>\n",
              "      <td>2</td>\n",
              "    </tr>\n",
              "    <tr>\n",
              "      <th>250962</th>\n",
              "      <td>28.504.479/0001-12</td>\n",
              "      <td>2020-06-24</td>\n",
              "      <td>5225385.14</td>\n",
              "      <td>153.993661</td>\n",
              "      <td>5223333.77</td>\n",
              "      <td>0.0</td>\n",
              "      <td>0.0</td>\n",
              "      <td>2</td>\n",
              "    </tr>\n",
              "    <tr>\n",
              "      <th>250963</th>\n",
              "      <td>28.504.479/0001-12</td>\n",
              "      <td>2020-06-25</td>\n",
              "      <td>5227334.65</td>\n",
              "      <td>154.050311</td>\n",
              "      <td>5225255.28</td>\n",
              "      <td>0.0</td>\n",
              "      <td>0.0</td>\n",
              "      <td>2</td>\n",
              "    </tr>\n",
              "    <tr>\n",
              "      <th>250964</th>\n",
              "      <td>28.504.479/0001-12</td>\n",
              "      <td>2020-06-26</td>\n",
              "      <td>5105225.36</td>\n",
              "      <td>150.448618</td>\n",
              "      <td>5103088.95</td>\n",
              "      <td>0.0</td>\n",
              "      <td>0.0</td>\n",
              "      <td>2</td>\n",
              "    </tr>\n",
              "    <tr>\n",
              "      <th>250965</th>\n",
              "      <td>28.504.479/0001-12</td>\n",
              "      <td>2020-06-29</td>\n",
              "      <td>5176647.58</td>\n",
              "      <td>152.552600</td>\n",
              "      <td>5174454.21</td>\n",
              "      <td>0.0</td>\n",
              "      <td>0.0</td>\n",
              "      <td>2</td>\n",
              "    </tr>\n",
              "    <tr>\n",
              "      <th>250966</th>\n",
              "      <td>28.504.479/0001-12</td>\n",
              "      <td>2020-06-30</td>\n",
              "      <td>5198115.72</td>\n",
              "      <td>153.183840</td>\n",
              "      <td>5195865.34</td>\n",
              "      <td>0.0</td>\n",
              "      <td>0.0</td>\n",
              "      <td>2</td>\n",
              "    </tr>\n",
              "  </tbody>\n",
              "</table>\n",
              "</div>"
            ],
            "text/plain": [
              "                CNPJ_FUNDO   DT_COMPTC  ...  RESG_DIA  NR_COTST\n",
              "250946  28.504.479/0001-12  2020-06-01  ...       0.0         2\n",
              "250947  28.504.479/0001-12  2020-06-02  ...       0.0         2\n",
              "250948  28.504.479/0001-12  2020-06-03  ...       0.0         2\n",
              "250949  28.504.479/0001-12  2020-06-04  ...       0.0         2\n",
              "250950  28.504.479/0001-12  2020-06-05  ...       0.0         2\n",
              "250951  28.504.479/0001-12  2020-06-08  ...   28100.0         2\n",
              "250952  28.504.479/0001-12  2020-06-09  ...       0.0         2\n",
              "250953  28.504.479/0001-12  2020-06-10  ...       0.0         2\n",
              "250954  28.504.479/0001-12  2020-06-12  ...       0.0         2\n",
              "250955  28.504.479/0001-12  2020-06-15  ...       0.0         2\n",
              "250956  28.504.479/0001-12  2020-06-16  ...       0.0         2\n",
              "250957  28.504.479/0001-12  2020-06-17  ...  207800.0         2\n",
              "250958  28.504.479/0001-12  2020-06-18  ...       0.0         2\n",
              "250959  28.504.479/0001-12  2020-06-19  ...       0.0         2\n",
              "250960  28.504.479/0001-12  2020-06-22  ...       0.0         2\n",
              "250961  28.504.479/0001-12  2020-06-23  ...       0.0         2\n",
              "250962  28.504.479/0001-12  2020-06-24  ...       0.0         2\n",
              "250963  28.504.479/0001-12  2020-06-25  ...       0.0         2\n",
              "250964  28.504.479/0001-12  2020-06-26  ...       0.0         2\n",
              "250965  28.504.479/0001-12  2020-06-29  ...       0.0         2\n",
              "250966  28.504.479/0001-12  2020-06-30  ...       0.0         2\n",
              "\n",
              "[21 rows x 8 columns]"
            ]
          },
          "metadata": {
            "tags": []
          },
          "execution_count": 17
        }
      ]
    },
    {
      "cell_type": "markdown",
      "metadata": {
        "id": "snDMFn0zLbrl",
        "colab_type": "text"
      },
      "source": [
        "<hr>"
      ]
    },
    {
      "cell_type": "markdown",
      "metadata": {
        "id": "H_w4_K3FI27z",
        "colab_type": "text"
      },
      "source": [
        "<h3>Calculando a rentabilidade</h3>"
      ]
    },
    {
      "cell_type": "code",
      "metadata": {
        "id": "2hyjctBaIDKV",
        "colab_type": "code",
        "colab": {}
      },
      "source": [
        "calc = ((dadosjunho['VL_QUOTA'][250966] / dadosmaio['VL_QUOTA'][240002])-1)*100 #calculando a rentabilidade"
      ],
      "execution_count": 18,
      "outputs": []
    },
    {
      "cell_type": "code",
      "metadata": {
        "id": "o1neYN_GIjoT",
        "colab_type": "code",
        "colab": {
          "base_uri": "https://localhost:8080/",
          "height": 34
        },
        "outputId": "ac66ad0f-d032-482e-92bf-673e080fb86c"
      },
      "source": [
        "print(\"Rentabilidade Absoluta: {:.2f}\".format(calc)) #Exibindo o resultado para o usuario "
      ],
      "execution_count": 19,
      "outputs": [
        {
          "output_type": "stream",
          "text": [
            "Rentabilidade Absoluta: 6.56\n"
          ],
          "name": "stdout"
        }
      ]
    },
    {
      "cell_type": "code",
      "metadata": {
        "id": "sQ-GhkMQIwWM",
        "colab_type": "code",
        "colab": {}
      },
      "source": [
        ""
      ],
      "execution_count": null,
      "outputs": []
    },
    {
      "cell_type": "code",
      "metadata": {
        "id": "8tEb94ycI7rq",
        "colab_type": "code",
        "colab": {}
      },
      "source": [
        ""
      ],
      "execution_count": null,
      "outputs": []
    }
  ]
}